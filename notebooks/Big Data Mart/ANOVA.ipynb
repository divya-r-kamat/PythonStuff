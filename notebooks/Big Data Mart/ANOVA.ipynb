{
 "cells": [
  {
   "cell_type": "markdown",
   "metadata": {},
   "source": [
    "## ANOVA - ANalysis Of VAriance\n",
    "ANOVA tests looks across multiple groups of populations on multiple categories, compares their means to produce one score and one significance value.\n",
    "\n",
    "Th score that we get from ANOVA test is called F-statistic\n",
    "\n",
    "F = Variance between groups/Variance within a group\n",
    "\n",
    "If the groups are similar , F ~ 1\n",
    "If groups are different, F will be large\n",
    "\n",
    "P-value \n",
    "determines the significance of F-statistic\n",
    "Smaller p-values indicate that the results are not due to chance\n",
    "\n",
    "T-tests are useful to compare differnces between two groups, however running multiple catergories of tests to compare across many groups is risky, might lead to Type1 error"
   ]
  },
  {
   "cell_type": "markdown",
   "metadata": {},
   "source": [
    "### One-Way ANOVA \n",
    "\n",
    "- Helps compare means across two or more groups\n",
    "- A single categorical variable is used to split the population into these groups\n",
    "\n",
    "#### Assumptions\n",
    "\n",
    "- populations are normal\n",
    "- samples are representative\n",
    "- samples are randomly drawn\n",
    "- variances of the population are constant\n",
    "\n",
    "\n",
    "### Assumptions in ANOVA\n",
    "- Residuals in the data are with normal distribution - distance of data points from fitted values shoud be normally distributed\n",
    "- Error in the data  from the fitted values should not be correlated with each other ( Independent of other datapoint )\n",
    "- Absence of outliers\n",
    "- Homoscedasticity - variance in each group should be constant (same)\n",
    "\n"
   ]
  },
  {
   "cell_type": "markdown",
   "metadata": {},
   "source": [
    "### Two-way ANOVA\n",
    "\n",
    "Examines the influence of two different independent categorical variables on one continuous dependent variable.\n",
    "The assumptions are same as One-Way ANOVA"
   ]
  },
  {
   "cell_type": "code",
   "execution_count": 1,
   "metadata": {
    "collapsed": true
   },
   "outputs": [],
   "source": [
    "#You can ignore any warnings using below lines\n",
    "\n",
    "import warnings\n",
    "warnings.simplefilter('ignore')"
   ]
  },
  {
   "cell_type": "code",
   "execution_count": 5,
   "metadata": {
    "collapsed": true
   },
   "outputs": [],
   "source": [
    "import statsmodels.api as sm\n",
    "import matplotlib.pyplot as plt\n",
    "import pandas as pd\n",
    "import numpy as np\n",
    "\n",
    "%matplotlib inline\n",
    "\n",
    "from statsmodels.formula.api import ols\n",
    "from statsmodels.graphics.api import interaction_plot, abline_plot\n",
    "from statsmodels.stats.anova import anova_lm"
   ]
  },
  {
   "cell_type": "code",
   "execution_count": 6,
   "metadata": {
    "collapsed": false
   },
   "outputs": [
    {
     "data": {
      "text/html": [
       "<div>\n",
       "<style>\n",
       "    .dataframe thead tr:only-child th {\n",
       "        text-align: right;\n",
       "    }\n",
       "\n",
       "    .dataframe thead th {\n",
       "        text-align: left;\n",
       "    }\n",
       "\n",
       "    .dataframe tbody tr th {\n",
       "        vertical-align: top;\n",
       "    }\n",
       "</style>\n",
       "<table border=\"1\" class=\"dataframe\">\n",
       "  <thead>\n",
       "    <tr style=\"text-align: right;\">\n",
       "      <th></th>\n",
       "      <th>TEST</th>\n",
       "      <th>MINORITY</th>\n",
       "      <th>JPERF</th>\n",
       "    </tr>\n",
       "  </thead>\n",
       "  <tbody>\n",
       "    <tr>\n",
       "      <th>0</th>\n",
       "      <td>0.28</td>\n",
       "      <td>1</td>\n",
       "      <td>1.83</td>\n",
       "    </tr>\n",
       "    <tr>\n",
       "      <th>1</th>\n",
       "      <td>0.97</td>\n",
       "      <td>1</td>\n",
       "      <td>4.59</td>\n",
       "    </tr>\n",
       "    <tr>\n",
       "      <th>2</th>\n",
       "      <td>1.25</td>\n",
       "      <td>1</td>\n",
       "      <td>2.97</td>\n",
       "    </tr>\n",
       "    <tr>\n",
       "      <th>3</th>\n",
       "      <td>2.46</td>\n",
       "      <td>1</td>\n",
       "      <td>8.14</td>\n",
       "    </tr>\n",
       "    <tr>\n",
       "      <th>4</th>\n",
       "      <td>2.51</td>\n",
       "      <td>1</td>\n",
       "      <td>8.00</td>\n",
       "    </tr>\n",
       "    <tr>\n",
       "      <th>5</th>\n",
       "      <td>1.17</td>\n",
       "      <td>1</td>\n",
       "      <td>3.30</td>\n",
       "    </tr>\n",
       "    <tr>\n",
       "      <th>6</th>\n",
       "      <td>1.78</td>\n",
       "      <td>1</td>\n",
       "      <td>7.53</td>\n",
       "    </tr>\n",
       "    <tr>\n",
       "      <th>7</th>\n",
       "      <td>1.21</td>\n",
       "      <td>1</td>\n",
       "      <td>2.03</td>\n",
       "    </tr>\n",
       "    <tr>\n",
       "      <th>8</th>\n",
       "      <td>1.63</td>\n",
       "      <td>1</td>\n",
       "      <td>5.00</td>\n",
       "    </tr>\n",
       "    <tr>\n",
       "      <th>9</th>\n",
       "      <td>1.98</td>\n",
       "      <td>1</td>\n",
       "      <td>8.04</td>\n",
       "    </tr>\n",
       "    <tr>\n",
       "      <th>10</th>\n",
       "      <td>2.36</td>\n",
       "      <td>0</td>\n",
       "      <td>3.25</td>\n",
       "    </tr>\n",
       "    <tr>\n",
       "      <th>11</th>\n",
       "      <td>2.11</td>\n",
       "      <td>0</td>\n",
       "      <td>5.30</td>\n",
       "    </tr>\n",
       "    <tr>\n",
       "      <th>12</th>\n",
       "      <td>0.45</td>\n",
       "      <td>0</td>\n",
       "      <td>1.39</td>\n",
       "    </tr>\n",
       "    <tr>\n",
       "      <th>13</th>\n",
       "      <td>1.76</td>\n",
       "      <td>0</td>\n",
       "      <td>4.69</td>\n",
       "    </tr>\n",
       "    <tr>\n",
       "      <th>14</th>\n",
       "      <td>2.09</td>\n",
       "      <td>0</td>\n",
       "      <td>6.56</td>\n",
       "    </tr>\n",
       "    <tr>\n",
       "      <th>15</th>\n",
       "      <td>1.50</td>\n",
       "      <td>0</td>\n",
       "      <td>3.00</td>\n",
       "    </tr>\n",
       "    <tr>\n",
       "      <th>16</th>\n",
       "      <td>1.25</td>\n",
       "      <td>0</td>\n",
       "      <td>5.85</td>\n",
       "    </tr>\n",
       "    <tr>\n",
       "      <th>17</th>\n",
       "      <td>0.72</td>\n",
       "      <td>0</td>\n",
       "      <td>1.90</td>\n",
       "    </tr>\n",
       "    <tr>\n",
       "      <th>18</th>\n",
       "      <td>0.42</td>\n",
       "      <td>0</td>\n",
       "      <td>3.85</td>\n",
       "    </tr>\n",
       "    <tr>\n",
       "      <th>19</th>\n",
       "      <td>1.53</td>\n",
       "      <td>0</td>\n",
       "      <td>2.95</td>\n",
       "    </tr>\n",
       "  </tbody>\n",
       "</table>\n",
       "</div>"
      ],
      "text/plain": [
       "    TEST  MINORITY  JPERF\n",
       "0   0.28         1   1.83\n",
       "1   0.97         1   4.59\n",
       "2   1.25         1   2.97\n",
       "3   2.46         1   8.14\n",
       "4   2.51         1   8.00\n",
       "5   1.17         1   3.30\n",
       "6   1.78         1   7.53\n",
       "7   1.21         1   2.03\n",
       "8   1.63         1   5.00\n",
       "9   1.98         1   8.04\n",
       "10  2.36         0   3.25\n",
       "11  2.11         0   5.30\n",
       "12  0.45         0   1.39\n",
       "13  1.76         0   4.69\n",
       "14  2.09         0   6.56\n",
       "15  1.50         0   3.00\n",
       "16  1.25         0   5.85\n",
       "17  0.72         0   1.90\n",
       "18  0.42         0   3.85\n",
       "19  1.53         0   2.95"
      ]
     },
     "execution_count": 6,
     "metadata": {},
     "output_type": "execute_result"
    }
   ],
   "source": [
    "#Job performance scrore of 20 employees of a company, test score before starting this job and whether\n",
    "#they belong to minority or not.\n",
    "\n",
    "jobtest=pd.read_csv(r\"C:\\Users\\divyakamat\\data\\DataSets\\stats\\jobtest.csv\")\n",
    "jobtest"
   ]
  },
  {
   "cell_type": "code",
   "execution_count": 7,
   "metadata": {
    "collapsed": false
   },
   "outputs": [
    {
     "data": {
      "text/plain": [
       "<pandas.core.groupby.DataFrameGroupBy object at 0x000001AE2BC16E10>"
      ]
     },
     "execution_count": 7,
     "metadata": {},
     "output_type": "execute_result"
    }
   ],
   "source": [
    "factor_grp = jobtest.groupby(['MINORITY'])"
   ]
  },
  {
   "cell_type": "code",
   "execution_count": null,
   "metadata": {
    "collapsed": true
   },
   "outputs": [],
   "source": []
  }
 ],
 "metadata": {
  "kernelspec": {
   "display_name": "Python [py36]",
   "language": "python",
   "name": "Python [py36]"
  },
  "language_info": {
   "codemirror_mode": {
    "name": "ipython",
    "version": 3
   },
   "file_extension": ".py",
   "mimetype": "text/x-python",
   "name": "python",
   "nbconvert_exporter": "python",
   "pygments_lexer": "ipython3",
   "version": "3.6.1"
  }
 },
 "nbformat": 4,
 "nbformat_minor": 0
}
