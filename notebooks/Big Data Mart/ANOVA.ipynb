{
 "cells": [
  {
   "cell_type": "markdown",
   "metadata": {},
   "source": [
    "## ANOVA - ANalysis Of VAriance\n",
    "ANOVA tests looks across multiple groups of populations on multiple categories, compares their means to produce one score and one significance value.\n",
    "\n",
    "Th score that we get from ANOVA test is called F-statistic\n",
    "\n",
    "F = Variance between groups/Variance within a group\n",
    "\n",
    "If the groups are similar , F ~ 1\n",
    "If groups are different, F will be large\n",
    "\n",
    "P-value \n",
    "determines the significance of F-statistic\n",
    "Smaller p-values indicate that the results are not due to chance\n",
    "\n",
    "T-tests are useful to compare differnces between two groups, however running multiple catergories of tests to compare across many groups is risky, might lead to Type1 error"
   ]
  },
  {
   "cell_type": "markdown",
   "metadata": {},
   "source": [
    "### One-Way ANOVA \n",
    "\n",
    "- Helps compare means across two or more groups\n",
    "- A single categorical variable is used to split the population into these groups\n",
    "\n",
    "#### Assumptions\n",
    "\n",
    "- populations are normal\n",
    "- samples are representative\n",
    "- samples are randomly drawn\n",
    "- variances of the population are constant\n",
    "\n",
    "\n",
    "### Assumptions in ANOVA\n",
    "- Residuals with normal distribution\n",
    "- Independence of errors\n",
    "- Absence of outliers\n",
    "- Homoscedasticity\n",
    "\n"
   ]
  },
  {
   "cell_type": "code",
   "execution_count": null,
   "metadata": {
    "collapsed": true
   },
   "outputs": [],
   "source": []
  }
 ],
 "metadata": {
  "kernelspec": {
   "display_name": "Python [py36]",
   "language": "python",
   "name": "Python [py36]"
  },
  "language_info": {
   "codemirror_mode": {
    "name": "ipython",
    "version": 3
   },
   "file_extension": ".py",
   "mimetype": "text/x-python",
   "name": "python",
   "nbconvert_exporter": "python",
   "pygments_lexer": "ipython3",
   "version": "3.6.1"
  }
 },
 "nbformat": 4,
 "nbformat_minor": 0
}
